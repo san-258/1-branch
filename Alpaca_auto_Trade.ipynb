{
  "cells": [
    {
      "cell_type": "markdown",
      "metadata": {
        "id": "view-in-github",
        "colab_type": "text"
      },
      "source": [
        "<a href=\"https://colab.research.google.com/github/san-258/1-branch/blob/Stock/Alpaca_auto_Trade.ipynb\" target=\"_parent\"><img src=\"https://colab.research.google.com/assets/colab-badge.svg\" alt=\"Open In Colab\"/></a>"
      ]
    },
    {
      "cell_type": "code",
      "execution_count": null,
      "metadata": {
        "id": "-qZ03XMt6FO8"
      },
      "outputs": [],
      "source": [
        "import alpaca_trade_api as alpaca\n",
        "api = alpaca.REST('YOUR_API_KEY_ID', 'YOUR_API_SECRET_KEY', 'https://paper-api.alpaca.markets')"
      ]
    },
    {
      "cell_type": "code",
      "execution_count": null,
      "metadata": {
        "colab": {
          "base_uri": "https://localhost:8080/"
        },
        "id": "eb4910b8",
        "outputId": "cb4ad474-d7a0-42bd-ecb7-14f9fed41dc9"
      },
      "outputs": [
        {
          "name": "stdout",
          "output_type": "stream",
          "text": [
            "Requirement already satisfied: alpaca-trade-api in /usr/local/lib/python3.11/dist-packages (3.2.0)\n",
            "Requirement already satisfied: pandas>=0.18.1 in /usr/local/lib/python3.11/dist-packages (from alpaca-trade-api) (2.2.2)\n",
            "Requirement already satisfied: numpy>=1.11.1 in /usr/local/lib/python3.11/dist-packages (from alpaca-trade-api) (2.0.2)\n",
            "Requirement already satisfied: requests<3,>2 in /usr/local/lib/python3.11/dist-packages (from alpaca-trade-api) (2.32.3)\n",
            "Requirement already satisfied: urllib3<2,>1.24 in /usr/local/lib/python3.11/dist-packages (from alpaca-trade-api) (1.26.20)\n",
            "Requirement already satisfied: websocket-client<2,>=0.56.0 in /usr/local/lib/python3.11/dist-packages (from alpaca-trade-api) (1.8.0)\n",
            "Requirement already satisfied: websockets<11,>=9.0 in /usr/local/lib/python3.11/dist-packages (from alpaca-trade-api) (10.4)\n",
            "Requirement already satisfied: msgpack==1.0.3 in /usr/local/lib/python3.11/dist-packages (from alpaca-trade-api) (1.0.3)\n",
            "Requirement already satisfied: aiohttp<4,>=3.8.3 in /usr/local/lib/python3.11/dist-packages (from alpaca-trade-api) (3.12.14)\n",
            "Requirement already satisfied: PyYAML==6.0.1 in /usr/local/lib/python3.11/dist-packages (from alpaca-trade-api) (6.0.1)\n",
            "Requirement already satisfied: deprecation==2.1.0 in /usr/local/lib/python3.11/dist-packages (from alpaca-trade-api) (2.1.0)\n",
            "Requirement already satisfied: packaging in /usr/local/lib/python3.11/dist-packages (from deprecation==2.1.0->alpaca-trade-api) (25.0)\n",
            "Requirement already satisfied: aiohappyeyeballs>=2.5.0 in /usr/local/lib/python3.11/dist-packages (from aiohttp<4,>=3.8.3->alpaca-trade-api) (2.6.1)\n",
            "Requirement already satisfied: aiosignal>=1.4.0 in /usr/local/lib/python3.11/dist-packages (from aiohttp<4,>=3.8.3->alpaca-trade-api) (1.4.0)\n",
            "Requirement already satisfied: attrs>=17.3.0 in /usr/local/lib/python3.11/dist-packages (from aiohttp<4,>=3.8.3->alpaca-trade-api) (25.3.0)\n",
            "Requirement already satisfied: frozenlist>=1.1.1 in /usr/local/lib/python3.11/dist-packages (from aiohttp<4,>=3.8.3->alpaca-trade-api) (1.7.0)\n",
            "Requirement already satisfied: multidict<7.0,>=4.5 in /usr/local/lib/python3.11/dist-packages (from aiohttp<4,>=3.8.3->alpaca-trade-api) (6.6.3)\n",
            "Requirement already satisfied: propcache>=0.2.0 in /usr/local/lib/python3.11/dist-packages (from aiohttp<4,>=3.8.3->alpaca-trade-api) (0.3.2)\n",
            "Requirement already satisfied: yarl<2.0,>=1.17.0 in /usr/local/lib/python3.11/dist-packages (from aiohttp<4,>=3.8.3->alpaca-trade-api) (1.20.1)\n",
            "Requirement already satisfied: python-dateutil>=2.8.2 in /usr/local/lib/python3.11/dist-packages (from pandas>=0.18.1->alpaca-trade-api) (2.9.0.post0)\n",
            "Requirement already satisfied: pytz>=2020.1 in /usr/local/lib/python3.11/dist-packages (from pandas>=0.18.1->alpaca-trade-api) (2025.2)\n",
            "Requirement already satisfied: tzdata>=2022.7 in /usr/local/lib/python3.11/dist-packages (from pandas>=0.18.1->alpaca-trade-api) (2025.2)\n",
            "Requirement already satisfied: charset-normalizer<4,>=2 in /usr/local/lib/python3.11/dist-packages (from requests<3,>2->alpaca-trade-api) (3.4.2)\n",
            "Requirement already satisfied: idna<4,>=2.5 in /usr/local/lib/python3.11/dist-packages (from requests<3,>2->alpaca-trade-api) (3.10)\n",
            "Requirement already satisfied: certifi>=2017.4.17 in /usr/local/lib/python3.11/dist-packages (from requests<3,>2->alpaca-trade-api) (2025.7.14)\n",
            "Requirement already satisfied: typing-extensions>=4.2 in /usr/local/lib/python3.11/dist-packages (from aiosignal>=1.4.0->aiohttp<4,>=3.8.3->alpaca-trade-api) (4.14.1)\n",
            "Requirement already satisfied: six>=1.5 in /usr/local/lib/python3.11/dist-packages (from python-dateutil>=2.8.2->pandas>=0.18.1->alpaca-trade-api) (1.17.0)\n"
          ]
        }
      ],
      "source": [
        "!pip install alpaca-trade-api"
      ]
    },
    {
      "cell_type": "code",
      "execution_count": null,
      "metadata": {
        "id": "CG91Rg8O8gUw"
      },
      "outputs": [],
      "source": [
        "import pandas as pd\n",
        "from alpaca_trade_api.rest import REST, TimeFrame\n",
        "\n",
        "\n",
        "# 🔑 Replace with your actual API keys\n",
        "API_KEY = 'YOUR_ALPACA_API_KEY'\n",
        "API_SECRET = 'YOUR_ALPACA_API_SECRET'\n",
        "BASE_URL = 'https://paper-api.alpaca.markets'\n",
        "\n",
        "# Initialize Alpaca client\n",
        "api = REST(API_KEY, API_SECRET, base_url=BASE_URL)"
      ]
    },
    {
      "cell_type": "code",
      "execution_count": null,
      "metadata": {
        "colab": {
          "base_uri": "https://localhost:8080/",
          "height": 35
        },
        "id": "8pecclBV9XH5",
        "outputId": "359c7629-d1f1-4ee8-d963-28f1c1970e20"
      },
      "outputs": [
        {
          "data": {
            "application/vnd.google.colaboratory.intrinsic+json": {
              "type": "string"
            },
            "text/plain": [
              "'PKAZJ2CHZ409JXQEE3JI'"
            ]
          },
          "execution_count": 22,
          "metadata": {},
          "output_type": "execute_result"
        }
      ],
      "source": [
        "from google.colab import userdata\n",
        "userdata.get('API_KEY')"
      ]
    },
    {
      "cell_type": "code",
      "execution_count": null,
      "metadata": {
        "id": "OWWnJz5o95Kg"
      },
      "outputs": [],
      "source": [
        "API_KEY = 'PKAZJ2CHZ409JXQEE3JI'\n",
        "API_SECRET = 'DbmnlcNEM7sTfVG66Q4YfDhlKvfdaHO64evp0dBj'\n"
      ]
    },
    {
      "cell_type": "code",
      "execution_count": null,
      "metadata": {
        "id": "ZvQBpEGR-PPN"
      },
      "outputs": [],
      "source": [
        "BASE_URL = 'https://paper-api.alpaca.markets'\n"
      ]
    },
    {
      "cell_type": "code",
      "execution_count": null,
      "metadata": {
        "colab": {
          "base_uri": "https://localhost:8080/"
        },
        "id": "Xwd2T3Rk-TPY",
        "outputId": "d630b107-d1e2-46c3-836d-531070b7d94c"
      },
      "outputs": [
        {
          "name": "stdout",
          "output_type": "stream",
          "text": [
            "ACTIVE\n"
          ]
        }
      ],
      "source": [
        "from alpaca_trade_api.rest import REST\n",
        "\n",
        "api = REST(API_KEY, API_SECRET, base_url=BASE_URL)\n",
        "\n",
        "# Try this simple test:\n",
        "account = api.get_account()\n",
        "print(account.status)\n"
      ]
    },
    {
      "cell_type": "code",
      "execution_count": null,
      "metadata": {
        "colab": {
          "base_uri": "https://localhost:8080/"
        },
        "id": "PXPdlYRR-VzT",
        "outputId": "706619e5-06af-4224-bfb4-bb1a1026748c"
      },
      "outputs": [
        {
          "data": {
            "text/plain": [
              "Account({   'account_blocked': False,\n",
              "    'account_number': 'PA2H7KW4DMD0',\n",
              "    'accrued_fees': '0',\n",
              "    'admin_configurations': {},\n",
              "    'balance_asof': '2025-07-25',\n",
              "    'bod_dtbp': '0',\n",
              "    'buying_power': '535669.58',\n",
              "    'cash': '267834.79',\n",
              "    'created_at': '2021-02-13T06:19:34.59032Z',\n",
              "    'crypto_status': 'ACTIVE',\n",
              "    'crypto_tier': 1,\n",
              "    'currency': 'USD',\n",
              "    'daytrade_count': 0,\n",
              "    'daytrading_buying_power': '0',\n",
              "    'effective_buying_power': '535669.58',\n",
              "    'equity': '267834.79',\n",
              "    'id': '4aa42681-21f7-445f-8db9-dba2aa5c4b74',\n",
              "    'initial_margin': '0',\n",
              "    'intraday_adjustments': '0',\n",
              "    'last_equity': '267834.79',\n",
              "    'last_maintenance_margin': '0',\n",
              "    'long_market_value': '0',\n",
              "    'maintenance_margin': '0',\n",
              "    'multiplier': '2',\n",
              "    'non_marginable_buying_power': '265834.79',\n",
              "    'pattern_day_trader': True,\n",
              "    'pending_reg_taf_fees': '0',\n",
              "    'portfolio_value': '267834.79',\n",
              "    'position_market_value': '0',\n",
              "    'regt_buying_power': '535669.58',\n",
              "    'short_market_value': '0',\n",
              "    'shorting_enabled': True,\n",
              "    'sma': '0',\n",
              "    'status': 'ACTIVE',\n",
              "    'trade_suspended_by_user': False,\n",
              "    'trading_blocked': False,\n",
              "    'transfers_blocked': False,\n",
              "    'user_configurations': None})"
            ]
          },
          "execution_count": 27,
          "metadata": {},
          "output_type": "execute_result"
        }
      ],
      "source": [
        "api.get_account()\n"
      ]
    },
    {
      "cell_type": "code",
      "execution_count": null,
      "metadata": {
        "id": "KBFL5vlF_bAf"
      },
      "outputs": [],
      "source": []
    },
    {
      "cell_type": "markdown",
      "metadata": {
        "id": "536f4de2"
      },
      "source": [
        "## Get open positions\n",
        "\n",
        "### Subtask:\n",
        "Retrieve all open positions from your Alpaca account.\n"
      ]
    },
    {
      "cell_type": "markdown",
      "metadata": {
        "id": "fbe1a5ef"
      },
      "source": [
        "**Reasoning**:\n",
        "Retrieve all open positions from the Alpaca account using the `api` object and store the result in the `open_positions` variable.\n",
        "\n"
      ]
    },
    {
      "cell_type": "code",
      "execution_count": null,
      "metadata": {
        "colab": {
          "base_uri": "https://localhost:8080/"
        },
        "id": "a62b9308",
        "outputId": "213099ba-5d9b-49f3-ecf3-b59944ec2aa9"
      },
      "outputs": [
        {
          "name": "stdout",
          "output_type": "stream",
          "text": [
            "Collecting ta\n",
            "  Downloading ta-0.11.0.tar.gz (25 kB)\n",
            "  Preparing metadata (setup.py) ... \u001b[?25l\u001b[?25hdone\n",
            "Requirement already satisfied: numpy in /usr/local/lib/python3.11/dist-packages (from ta) (2.0.2)\n",
            "Requirement already satisfied: pandas in /usr/local/lib/python3.11/dist-packages (from ta) (2.2.2)\n",
            "Requirement already satisfied: python-dateutil>=2.8.2 in /usr/local/lib/python3.11/dist-packages (from pandas->ta) (2.9.0.post0)\n",
            "Requirement already satisfied: pytz>=2020.1 in /usr/local/lib/python3.11/dist-packages (from pandas->ta) (2025.2)\n",
            "Requirement already satisfied: tzdata>=2022.7 in /usr/local/lib/python3.11/dist-packages (from pandas->ta) (2025.2)\n",
            "Requirement already satisfied: six>=1.5 in /usr/local/lib/python3.11/dist-packages (from python-dateutil>=2.8.2->pandas->ta) (1.17.0)\n",
            "Building wheels for collected packages: ta\n",
            "  Building wheel for ta (setup.py) ... \u001b[?25l\u001b[?25hdone\n",
            "  Created wheel for ta: filename=ta-0.11.0-py3-none-any.whl size=29412 sha256=8362421093d575811301094ea881932a7fb15cfe56ee2725b63ae7eb6f6f4901\n",
            "  Stored in directory: /root/.cache/pip/wheels/a1/d7/29/7781cc5eb9a3659d032d7d15bdd0f49d07d2b24fec29f44bc4\n",
            "Successfully built ta\n",
            "Installing collected packages: ta\n",
            "Successfully installed ta-0.11.0\n"
          ]
        }
      ],
      "source": [
        "!pip install ta"
      ]
    },
    {
      "cell_type": "code",
      "execution_count": null,
      "metadata": {
        "colab": {
          "base_uri": "https://localhost:8080/",
          "height": 329
        },
        "id": "146da1b1",
        "outputId": "373989c9-cdf9-4520-e9b8-7f74e44a43ec"
      },
      "outputs": [
        {
          "data": {
            "text/plain": [
              "[Position({   'asset_class': 'crypto',\n",
              "     'asset_id': '64bbff51-59d6-4b3c-9351-13ad85e3c752',\n",
              "     'asset_marginable': False,\n",
              "     'avg_entry_price': '118102.068386139',\n",
              "     'change_today': '0.0070381406894056',\n",
              "     'cost_basis': '117511.557808',\n",
              "     'current_price': '117977.64',\n",
              "     'exchange': 'CRYPTO',\n",
              "     'lastday_price': '117153.1',\n",
              "     'market_value': '117387.751564',\n",
              "     'qty': '0.994999998',\n",
              "     'qty_available': '0.994999998',\n",
              "     'side': 'long',\n",
              "     'symbol': 'BTCUSD',\n",
              "     'unrealized_intraday_pl': '-123.806244',\n",
              "     'unrealized_intraday_plpc': '-0.0010535665283434',\n",
              "     'unrealized_pl': '-123.806244',\n",
              "     'unrealized_plpc': '-0.0010535665283434'})]"
            ]
          },
          "metadata": {},
          "output_type": "display_data"
        }
      ],
      "source": [
        "open_positions = api.list_positions()\n",
        "display(open_positions)"
      ]
    },
    {
      "cell_type": "code",
      "execution_count": null,
      "metadata": {
        "colab": {
          "base_uri": "https://localhost:8080/",
          "height": 329
        },
        "id": "122b42cb",
        "outputId": "2e290258-cd20-4489-ce93-7e2c3cb4b7ea"
      },
      "outputs": [
        {
          "data": {
            "text/plain": [
              "[Position({   'asset_class': 'crypto',\n",
              "     'asset_id': '64bbff51-59d6-4b3c-9351-13ad85e3c752',\n",
              "     'asset_marginable': False,\n",
              "     'avg_entry_price': '118102.068386139',\n",
              "     'change_today': '-0.0000487154756961',\n",
              "     'cost_basis': '117511.557808',\n",
              "     'current_price': '118293.4',\n",
              "     'exchange': 'CRYPTO',\n",
              "     'lastday_price': '118299.163',\n",
              "     'market_value': '117701.932763',\n",
              "     'qty': '0.994999998',\n",
              "     'qty_available': '0.994999998',\n",
              "     'side': 'long',\n",
              "     'symbol': 'BTCUSD',\n",
              "     'unrealized_intraday_pl': '190.374955',\n",
              "     'unrealized_intraday_plpc': '0.0016200530275588',\n",
              "     'unrealized_pl': '190.374955',\n",
              "     'unrealized_plpc': '0.0016200530275588'})]"
            ]
          },
          "metadata": {},
          "output_type": "display_data"
        }
      ],
      "source": [
        "open_positions = api.list_positions()\n",
        "display(open_positions)"
      ]
    },
    {
      "cell_type": "code",
      "execution_count": null,
      "metadata": {
        "id": "854417d4"
      },
      "outputs": [],
      "source": [
        "import os\n",
        "\n",
        "os.environ['ALPACA_API_KEY'] = 'PKAZJ2CHZ409JXQEE3JI'\n",
        "os.environ['ALPACA_SECRET_KEY'] = 'DbmnlcNEM7sTfVG66Q4YfDhlKvfdaHO64evp0dBj'"
      ]
    },
    {
      "cell_type": "code",
      "source": [
        "!pip install alpaca-trade-api pandas numpy"
      ],
      "metadata": {
        "colab": {
          "base_uri": "https://localhost:8080/"
        },
        "id": "sXGW9RSrFtS_",
        "outputId": "bb7fb2f2-ef36-4e30-8f58-a6b7cbdc0f74"
      },
      "execution_count": null,
      "outputs": [
        {
          "output_type": "stream",
          "name": "stdout",
          "text": [
            "Requirement already satisfied: alpaca-trade-api in /usr/local/lib/python3.11/dist-packages (3.2.0)\n",
            "Requirement already satisfied: pandas in /usr/local/lib/python3.11/dist-packages (2.2.2)\n",
            "Requirement already satisfied: numpy in /usr/local/lib/python3.11/dist-packages (2.0.2)\n",
            "Requirement already satisfied: requests<3,>2 in /usr/local/lib/python3.11/dist-packages (from alpaca-trade-api) (2.32.3)\n",
            "Requirement already satisfied: urllib3<2,>1.24 in /usr/local/lib/python3.11/dist-packages (from alpaca-trade-api) (1.26.20)\n",
            "Requirement already satisfied: websocket-client<2,>=0.56.0 in /usr/local/lib/python3.11/dist-packages (from alpaca-trade-api) (1.8.0)\n",
            "Requirement already satisfied: websockets<11,>=9.0 in /usr/local/lib/python3.11/dist-packages (from alpaca-trade-api) (10.4)\n",
            "Requirement already satisfied: msgpack==1.0.3 in /usr/local/lib/python3.11/dist-packages (from alpaca-trade-api) (1.0.3)\n",
            "Requirement already satisfied: aiohttp<4,>=3.8.3 in /usr/local/lib/python3.11/dist-packages (from alpaca-trade-api) (3.12.14)\n",
            "Requirement already satisfied: PyYAML==6.0.1 in /usr/local/lib/python3.11/dist-packages (from alpaca-trade-api) (6.0.1)\n",
            "Requirement already satisfied: deprecation==2.1.0 in /usr/local/lib/python3.11/dist-packages (from alpaca-trade-api) (2.1.0)\n",
            "Requirement already satisfied: packaging in /usr/local/lib/python3.11/dist-packages (from deprecation==2.1.0->alpaca-trade-api) (25.0)\n",
            "Requirement already satisfied: python-dateutil>=2.8.2 in /usr/local/lib/python3.11/dist-packages (from pandas) (2.9.0.post0)\n",
            "Requirement already satisfied: pytz>=2020.1 in /usr/local/lib/python3.11/dist-packages (from pandas) (2025.2)\n",
            "Requirement already satisfied: tzdata>=2022.7 in /usr/local/lib/python3.11/dist-packages (from pandas) (2025.2)\n",
            "Requirement already satisfied: aiohappyeyeballs>=2.5.0 in /usr/local/lib/python3.11/dist-packages (from aiohttp<4,>=3.8.3->alpaca-trade-api) (2.6.1)\n",
            "Requirement already satisfied: aiosignal>=1.4.0 in /usr/local/lib/python3.11/dist-packages (from aiohttp<4,>=3.8.3->alpaca-trade-api) (1.4.0)\n",
            "Requirement already satisfied: attrs>=17.3.0 in /usr/local/lib/python3.11/dist-packages (from aiohttp<4,>=3.8.3->alpaca-trade-api) (25.3.0)\n",
            "Requirement already satisfied: frozenlist>=1.1.1 in /usr/local/lib/python3.11/dist-packages (from aiohttp<4,>=3.8.3->alpaca-trade-api) (1.7.0)\n",
            "Requirement already satisfied: multidict<7.0,>=4.5 in /usr/local/lib/python3.11/dist-packages (from aiohttp<4,>=3.8.3->alpaca-trade-api) (6.6.3)\n",
            "Requirement already satisfied: propcache>=0.2.0 in /usr/local/lib/python3.11/dist-packages (from aiohttp<4,>=3.8.3->alpaca-trade-api) (0.3.2)\n",
            "Requirement already satisfied: yarl<2.0,>=1.17.0 in /usr/local/lib/python3.11/dist-packages (from aiohttp<4,>=3.8.3->alpaca-trade-api) (1.20.1)\n",
            "Requirement already satisfied: six>=1.5 in /usr/local/lib/python3.11/dist-packages (from python-dateutil>=2.8.2->pandas) (1.17.0)\n",
            "Requirement already satisfied: charset-normalizer<4,>=2 in /usr/local/lib/python3.11/dist-packages (from requests<3,>2->alpaca-trade-api) (3.4.2)\n",
            "Requirement already satisfied: idna<4,>=2.5 in /usr/local/lib/python3.11/dist-packages (from requests<3,>2->alpaca-trade-api) (3.10)\n",
            "Requirement already satisfied: certifi>=2017.4.17 in /usr/local/lib/python3.11/dist-packages (from requests<3,>2->alpaca-trade-api) (2025.7.14)\n",
            "Requirement already satisfied: typing-extensions>=4.2 in /usr/local/lib/python3.11/dist-packages (from aiosignal>=1.4.0->aiohttp<4,>=3.8.3->alpaca-trade-api) (4.14.1)\n"
          ]
        }
      ]
    },
    {
      "cell_type": "code",
      "source": [
        "from google.colab import userdata\n",
        "userdata.get('ALPACA_API_KEY')"
      ],
      "metadata": {
        "colab": {
          "base_uri": "https://localhost:8080/",
          "height": 35
        },
        "id": "4bklfIQrI91A",
        "outputId": "62698bf4-1df5-4255-ae6f-1ac1fa134ac4"
      },
      "execution_count": null,
      "outputs": [
        {
          "output_type": "execute_result",
          "data": {
            "text/plain": [
              "'PKAZJ2CHZ409JXQEE3JI'"
            ],
            "application/vnd.google.colaboratory.intrinsic+json": {
              "type": "string"
            }
          },
          "metadata": {},
          "execution_count": 24
        }
      ]
    },
    {
      "cell_type": "code",
      "metadata": {
        "colab": {
          "base_uri": "https://localhost:8080/"
        },
        "id": "9ac5e429",
        "outputId": "f37b9479-e0c9-402e-9915-78499c487a83"
      },
      "source": [
        "!pip install alpaca-trade-api"
      ],
      "execution_count": null,
      "outputs": [
        {
          "output_type": "stream",
          "name": "stdout",
          "text": [
            "Requirement already satisfied: alpaca-trade-api in /usr/local/lib/python3.11/dist-packages (3.2.0)\n",
            "Requirement already satisfied: pandas>=0.18.1 in /usr/local/lib/python3.11/dist-packages (from alpaca-trade-api) (2.2.2)\n",
            "Requirement already satisfied: numpy>=1.11.1 in /usr/local/lib/python3.11/dist-packages (from alpaca-trade-api) (2.0.2)\n",
            "Requirement already satisfied: requests<3,>2 in /usr/local/lib/python3.11/dist-packages (from alpaca-trade-api) (2.32.3)\n",
            "Requirement already satisfied: urllib3<2,>1.24 in /usr/local/lib/python3.11/dist-packages (from alpaca-trade-api) (1.26.20)\n",
            "Requirement already satisfied: websocket-client<2,>=0.56.0 in /usr/local/lib/python3.11/dist-packages (from alpaca-trade-api) (1.8.0)\n",
            "Requirement already satisfied: websockets<11,>=9.0 in /usr/local/lib/python3.11/dist-packages (from alpaca-trade-api) (10.4)\n",
            "Requirement already satisfied: msgpack==1.0.3 in /usr/local/lib/python3.11/dist-packages (from alpaca-trade-api) (1.0.3)\n",
            "Requirement already satisfied: aiohttp<4,>=3.8.3 in /usr/local/lib/python3.11/dist-packages (from alpaca-trade-api) (3.12.14)\n",
            "Requirement already satisfied: PyYAML==6.0.1 in /usr/local/lib/python3.11/dist-packages (from alpaca-trade-api) (6.0.1)\n",
            "Requirement already satisfied: deprecation==2.1.0 in /usr/local/lib/python3.11/dist-packages (from alpaca-trade-api) (2.1.0)\n",
            "Requirement already satisfied: packaging in /usr/local/lib/python3.11/dist-packages (from deprecation==2.1.0->alpaca-trade-api) (25.0)\n",
            "Requirement already satisfied: aiohappyeyeballs>=2.5.0 in /usr/local/lib/python3.11/dist-packages (from aiohttp<4,>=3.8.3->alpaca-trade-api) (2.6.1)\n",
            "Requirement already satisfied: aiosignal>=1.4.0 in /usr/local/lib/python3.11/dist-packages (from aiohttp<4,>=3.8.3->alpaca-trade-api) (1.4.0)\n",
            "Requirement already satisfied: attrs>=17.3.0 in /usr/local/lib/python3.11/dist-packages (from aiohttp<4,>=3.8.3->alpaca-trade-api) (25.3.0)\n",
            "Requirement already satisfied: frozenlist>=1.1.1 in /usr/local/lib/python3.11/dist-packages (from aiohttp<4,>=3.8.3->alpaca-trade-api) (1.7.0)\n",
            "Requirement already satisfied: multidict<7.0,>=4.5 in /usr/local/lib/python3.11/dist-packages (from aiohttp<4,>=3.8.3->alpaca-trade-api) (6.6.3)\n",
            "Requirement already satisfied: propcache>=0.2.0 in /usr/local/lib/python3.11/dist-packages (from aiohttp<4,>=3.8.3->alpaca-trade-api) (0.3.2)\n",
            "Requirement already satisfied: yarl<2.0,>=1.17.0 in /usr/local/lib/python3.11/dist-packages (from aiohttp<4,>=3.8.3->alpaca-trade-api) (1.20.1)\n",
            "Requirement already satisfied: python-dateutil>=2.8.2 in /usr/local/lib/python3.11/dist-packages (from pandas>=0.18.1->alpaca-trade-api) (2.9.0.post0)\n",
            "Requirement already satisfied: pytz>=2020.1 in /usr/local/lib/python3.11/dist-packages (from pandas>=0.18.1->alpaca-trade-api) (2025.2)\n",
            "Requirement already satisfied: tzdata>=2022.7 in /usr/local/lib/python3.11/dist-packages (from pandas>=0.18.1->alpaca-trade-api) (2025.2)\n",
            "Requirement already satisfied: charset-normalizer<4,>=2 in /usr/local/lib/python3.11/dist-packages (from requests<3,>2->alpaca-trade-api) (3.4.2)\n",
            "Requirement already satisfied: idna<4,>=2.5 in /usr/local/lib/python3.11/dist-packages (from requests<3,>2->alpaca-trade-api) (3.10)\n",
            "Requirement already satisfied: certifi>=2017.4.17 in /usr/local/lib/python3.11/dist-packages (from requests<3,>2->alpaca-trade-api) (2025.7.14)\n",
            "Requirement already satisfied: typing-extensions>=4.2 in /usr/local/lib/python3.11/dist-packages (from aiosignal>=1.4.0->aiohttp<4,>=3.8.3->alpaca-trade-api) (4.14.1)\n",
            "Requirement already satisfied: six>=1.5 in /usr/local/lib/python3.11/dist-packages (from python-dateutil>=2.8.2->pandas>=0.18.1->alpaca-trade-api) (1.17.0)\n"
          ]
        }
      ]
    },
    {
      "cell_type": "code",
      "metadata": {
        "colab": {
          "base_uri": "https://localhost:8080/",
          "height": 642
        },
        "id": "621139cf",
        "outputId": "b57e0d3e-3c11-4fef-99b3-9258b12f6d31"
      },
      "source": [
        "from alpaca_trade_api.rest import REST, TimeFrame\n",
        "from google.colab import userdata\n",
        "\n",
        "API_KEY = userdata.get('ALPACA_API_KEY')\n",
        "API_SECRET = userdata.get('ALPACA_SECRET_KEY')\n",
        "BASE_URL = 'https://paper-api.alpaca.markets'\n",
        "\n",
        "# Initialize Alpaca client\n",
        "api = REST(API_KEY, API_SECRET, base_url=BASE_URL)\n",
        "\n",
        "open_positions = api.list_positions()\n",
        "display(open_positions)"
      ],
      "execution_count": null,
      "outputs": [
        {
          "output_type": "display_data",
          "data": {
            "text/plain": [
              "[Position({   'asset_class': 'crypto',\n",
              "     'asset_id': '64bbff51-59d6-4b3c-9351-13ad85e3c752',\n",
              "     'asset_marginable': False,\n",
              "     'avg_entry_price': '118102.068386139',\n",
              "     'change_today': '0.0005332835702312',\n",
              "     'cost_basis': '117511.557808',\n",
              "     'current_price': '118362.25',\n",
              "     'exchange': 'CRYPTO',\n",
              "     'lastday_price': '118299.163',\n",
              "     'market_value': '117770.438513',\n",
              "     'qty': '0.994999998',\n",
              "     'qty_available': '0.994999998',\n",
              "     'side': 'long',\n",
              "     'symbol': 'BTCUSD',\n",
              "     'unrealized_intraday_pl': '258.880705',\n",
              "     'unrealized_intraday_plpc': '0.0022030233436525',\n",
              "     'unrealized_pl': '258.880705',\n",
              "     'unrealized_plpc': '0.0022030233436525'}),\n",
              " Position({   'asset_class': 'crypto',\n",
              "     'asset_id': '35f33a69-f5d6-4dc9-b158-4485e5e92e4b',\n",
              "     'asset_marginable': False,\n",
              "     'avg_entry_price': '3773.5',\n",
              "     'change_today': '0.0064516402837205',\n",
              "     'cost_basis': '3764.06625',\n",
              "     'current_price': '3794.372',\n",
              "     'exchange': 'CRYPTO',\n",
              "     'lastday_price': '3770.049',\n",
              "     'market_value': '3784.88607',\n",
              "     'qty': '0.9975',\n",
              "     'qty_available': '0.9975',\n",
              "     'side': 'long',\n",
              "     'symbol': 'ETHUSD',\n",
              "     'unrealized_intraday_pl': '20.81982',\n",
              "     'unrealized_intraday_plpc': '0.0055312044521002',\n",
              "     'unrealized_pl': '20.81982',\n",
              "     'unrealized_plpc': '0.0055312044521002'})]"
            ]
          },
          "metadata": {}
        }
      ]
    },
    {
      "cell_type": "code",
      "source": [
        "from google.colab import userdata\n",
        "userdata.get('ALPACA_API_KEY')"
      ],
      "metadata": {
        "colab": {
          "base_uri": "https://localhost:8080/",
          "height": 35
        },
        "id": "SIHO33vnQgc0",
        "outputId": "33cf45c9-88f5-418c-9877-cbf056a9c675"
      },
      "execution_count": null,
      "outputs": [
        {
          "output_type": "execute_result",
          "data": {
            "text/plain": [
              "'PKAZJ2CHZ409JXQEE3JI'"
            ],
            "application/vnd.google.colaboratory.intrinsic+json": {
              "type": "string"
            }
          },
          "metadata": {},
          "execution_count": 26
        }
      ]
    },
    {
      "cell_type": "code",
      "source": [
        "account = api.get_account()\n",
        "print(\"Account status:\", account.status)\n",
        "print(\"Crypto status:\", account.crypto_status)\n"
      ],
      "metadata": {
        "colab": {
          "base_uri": "https://localhost:8080/"
        },
        "id": "YU-6lbvUSu9m",
        "outputId": "4d2f7990-04aa-408e-eedb-08d9eac89d74"
      },
      "execution_count": null,
      "outputs": [
        {
          "output_type": "stream",
          "name": "stdout",
          "text": [
            "Account status: ACTIVE\n",
            "Crypto status: ACTIVE\n"
          ]
        }
      ]
    },
    {
      "cell_type": "code",
      "metadata": {
        "colab": {
          "base_uri": "https://localhost:8080/",
          "height": 659
        },
        "id": "a5f08344",
        "outputId": "192380e2-eed6-4ecc-9c5c-1cd33352022c"
      },
      "source": [
        "from alpaca_trade_api.rest import REST, TimeFrame\n",
        "from google.colab import userdata\n",
        "\n",
        "# Initialize Alpaca client\n",
        "API_KEY = userdata.get('ALPACA_API_KEY')\n",
        "API_SECRET = userdata.get('ALPACA_SECRET_KEY')\n",
        "BASE_URL = 'https://paper-api.alpaca.markets' # Use paper trading URL\n",
        "\n",
        "api = REST(API_KEY, API_SECRET, base_url=BASE_URL)\n",
        "\n",
        "try:\n",
        "    order = api.submit_order(\n",
        "        symbol='ETHUSD',\n",
        "        qty=1,\n",
        "        side='buy',\n",
        "        type='market',\n",
        "        time_in_force='gtc'\n",
        "    )\n",
        "    print(\"Order placed successfully!\")\n",
        "    display(order)\n",
        "except Exception as e:\n",
        "    print(f\"Error placing order: {e}\")"
      ],
      "execution_count": 9,
      "outputs": [
        {
          "output_type": "stream",
          "name": "stdout",
          "text": [
            "Order placed successfully!\n"
          ]
        },
        {
          "output_type": "display_data",
          "data": {
            "text/plain": [
              "Order({   'asset_class': 'crypto',\n",
              "    'asset_id': 'a1733398-6acc-4e92-af24-0d0667f78713',\n",
              "    'canceled_at': None,\n",
              "    'client_order_id': 'c2778a1b-cc6b-4f51-b658-56a1af184851',\n",
              "    'created_at': '2025-07-27T15:18:10.098919903Z',\n",
              "    'expired_at': None,\n",
              "    'expires_at': '2025-10-23T20:00:00Z',\n",
              "    'extended_hours': False,\n",
              "    'failed_at': None,\n",
              "    'filled_at': None,\n",
              "    'filled_avg_price': None,\n",
              "    'filled_qty': '0',\n",
              "    'hwm': None,\n",
              "    'id': '621843c1-dcab-472f-94fa-8568ca55779d',\n",
              "    'legs': None,\n",
              "    'limit_price': None,\n",
              "    'notional': None,\n",
              "    'order_class': '',\n",
              "    'order_type': 'market',\n",
              "    'position_intent': 'buy_to_open',\n",
              "    'qty': '1',\n",
              "    'replaced_at': None,\n",
              "    'replaced_by': None,\n",
              "    'replaces': None,\n",
              "    'side': 'buy',\n",
              "    'source': None,\n",
              "    'status': 'pending_new',\n",
              "    'stop_price': None,\n",
              "    'submitted_at': '2025-07-27T15:18:10.098919903Z',\n",
              "    'subtag': None,\n",
              "    'symbol': 'ETH/USD',\n",
              "    'time_in_force': 'gtc',\n",
              "    'trail_percent': None,\n",
              "    'trail_price': None,\n",
              "    'type': 'market',\n",
              "    'updated_at': '2025-07-27T15:18:10.099907203Z'})"
            ]
          },
          "metadata": {}
        }
      ]
    },
    {
      "cell_type": "code",
      "source": [
        "from google.colab import drive\n",
        "drive.mount('/content/drive')"
      ],
      "metadata": {
        "id": "y8K6MGK2edHv"
      },
      "execution_count": null,
      "outputs": []
    },
    {
      "cell_type": "code",
      "metadata": {
        "colab": {
          "base_uri": "https://localhost:8080/",
          "height": 659
        },
        "id": "3d61d1ec",
        "outputId": "09ff14cf-0525-4fe8-86e3-37e96df9206c"
      },
      "source": [
        "from alpaca_trade_api.rest import REST, TimeFrame\n",
        "from google.colab import userdata\n",
        "\n",
        "# Initialize Alpaca client\n",
        "API_KEY = userdata.get('ALPACA_API_KEY')\n",
        "API_SECRET = userdata.get('ALPACA_SECRET_KEY')\n",
        "BASE_URL = 'https://paper-api.alpaca.markets' # Use paper trading URL\n",
        "\n",
        "api = REST(API_KEY, API_SECRET, base_url=BASE_URL)\n",
        "\n",
        "try:\n",
        "    order = api.submit_order(\n",
        "        symbol='BTCUSD',\n",
        "        qty=1,\n",
        "        side='sell',\n",
        "        type='market',\n",
        "        time_in_force='gtc'\n",
        "    )\n",
        "    print(\"Order placed successfully!\")\n",
        "    display(order)\n",
        "except Exception as e:\n",
        "    print(f\"Error placing order: {e}\")"
      ],
      "execution_count": 10,
      "outputs": [
        {
          "output_type": "stream",
          "name": "stdout",
          "text": [
            "Order placed successfully!\n"
          ]
        },
        {
          "output_type": "display_data",
          "data": {
            "text/plain": [
              "Order({   'asset_class': 'crypto',\n",
              "    'asset_id': '276e2673-764b-4ab6-a611-caf665ca6340',\n",
              "    'canceled_at': None,\n",
              "    'client_order_id': '940b73ef-8003-45d2-97ad-f9b3d515dc1f',\n",
              "    'created_at': '2025-07-27T15:19:09.675045418Z',\n",
              "    'expired_at': None,\n",
              "    'expires_at': '2025-10-23T20:00:00Z',\n",
              "    'extended_hours': False,\n",
              "    'failed_at': None,\n",
              "    'filled_at': None,\n",
              "    'filled_avg_price': None,\n",
              "    'filled_qty': '0',\n",
              "    'hwm': None,\n",
              "    'id': '2fd9c140-db96-4ae7-8129-0bb7d0c2fa5e',\n",
              "    'legs': None,\n",
              "    'limit_price': None,\n",
              "    'notional': None,\n",
              "    'order_class': '',\n",
              "    'order_type': 'market',\n",
              "    'position_intent': 'sell_to_close',\n",
              "    'qty': '1',\n",
              "    'replaced_at': None,\n",
              "    'replaced_by': None,\n",
              "    'replaces': None,\n",
              "    'side': 'sell',\n",
              "    'source': None,\n",
              "    'status': 'pending_new',\n",
              "    'stop_price': None,\n",
              "    'submitted_at': '2025-07-27T15:19:09.675045418Z',\n",
              "    'subtag': None,\n",
              "    'symbol': 'BTC/USD',\n",
              "    'time_in_force': 'gtc',\n",
              "    'trail_percent': None,\n",
              "    'trail_price': None,\n",
              "    'type': 'market',\n",
              "    'updated_at': '2025-07-27T15:19:09.676076208Z'})"
            ]
          },
          "metadata": {}
        }
      ]
    },
    {
      "cell_type": "code",
      "metadata": {
        "colab": {
          "base_uri": "https://localhost:8080/",
          "height": 659
        },
        "id": "2424a3f2",
        "outputId": "9a07132c-c143-4719-98e2-5b8d1ef60683"
      },
      "source": [
        "from alpaca_trade_api.rest import REST, TimeFrame\n",
        "from google.colab import userdata\n",
        "\n",
        "# Initialize Alpaca client\n",
        "API_KEY = userdata.get('ALPACA_API_KEY')\n",
        "API_SECRET = userdata.get('ALPACA_SECRET_KEY')\n",
        "BASE_URL = 'https://paper-api.alpaca.markets' # Use paper trading URL\n",
        "\n",
        "api = REST(API_KEY, API_SECRET, base_url=BASE_URL)\n",
        "\n",
        "try:\n",
        "    order = api.submit_order(\n",
        "        symbol='ETHUSD',\n",
        "        qty=1,\n",
        "        side='sell',\n",
        "        type='market',\n",
        "        time_in_force='gtc'\n",
        "    )\n",
        "    print(\"Order placed successfully!\")\n",
        "    display(order)\n",
        "except Exception as e:\n",
        "    print(f\"Error placing order: {e}\")"
      ],
      "execution_count": 11,
      "outputs": [
        {
          "output_type": "stream",
          "name": "stdout",
          "text": [
            "Order placed successfully!\n"
          ]
        },
        {
          "output_type": "display_data",
          "data": {
            "text/plain": [
              "Order({   'asset_class': 'crypto',\n",
              "    'asset_id': 'a1733398-6acc-4e92-af24-0d0667f78713',\n",
              "    'canceled_at': None,\n",
              "    'client_order_id': 'a95c90e8-b6d5-4dff-bc46-b80884da9ce9',\n",
              "    'created_at': '2025-07-27T15:20:14.710698605Z',\n",
              "    'expired_at': None,\n",
              "    'expires_at': '2025-10-23T20:00:00Z',\n",
              "    'extended_hours': False,\n",
              "    'failed_at': None,\n",
              "    'filled_at': None,\n",
              "    'filled_avg_price': None,\n",
              "    'filled_qty': '0',\n",
              "    'hwm': None,\n",
              "    'id': 'c13b6ec9-27e7-4edd-8cc7-27f698029260',\n",
              "    'legs': None,\n",
              "    'limit_price': None,\n",
              "    'notional': None,\n",
              "    'order_class': '',\n",
              "    'order_type': 'market',\n",
              "    'position_intent': 'sell_to_close',\n",
              "    'qty': '1',\n",
              "    'replaced_at': None,\n",
              "    'replaced_by': None,\n",
              "    'replaces': None,\n",
              "    'side': 'sell',\n",
              "    'source': None,\n",
              "    'status': 'pending_new',\n",
              "    'stop_price': None,\n",
              "    'submitted_at': '2025-07-27T15:20:14.710698605Z',\n",
              "    'subtag': None,\n",
              "    'symbol': 'ETH/USD',\n",
              "    'time_in_force': 'gtc',\n",
              "    'trail_percent': None,\n",
              "    'trail_price': None,\n",
              "    'type': 'market',\n",
              "    'updated_at': '2025-07-27T15:20:14.711620505Z'})"
            ]
          },
          "metadata": {}
        }
      ]
    }
  ],
  "metadata": {
    "colab": {
      "provenance": [],
      "authorship_tag": "ABX9TyPTu1RO+ZP2w+BkMIFPDWrg",
      "include_colab_link": true
    },
    "kernelspec": {
      "display_name": "Python 3",
      "name": "python3"
    },
    "language_info": {
      "name": "python"
    }
  },
  "nbformat": 4,
  "nbformat_minor": 0
}